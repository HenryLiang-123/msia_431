{
 "cells": [
  {
   "cell_type": "code",
   "execution_count": 31,
   "metadata": {},
   "outputs": [
    {
     "name": "stdout",
     "output_type": "stream",
     "text": [
      "[\"N'Dogo\\t1911\\t4\\t2\\n\", \"N'Dogo\\t1936\\t1\\t1\\n\", \"N'Dogo\\t1971\\t3\\t3\\n\", \"N'Dogo\\t1972\\t3\\t3\\n\", \"N'Dogo\\t1973\\t2\\t2\\n\", 'chichi\\t1965\\t1\\t4\\n', 'chi nu\\t1965\\t1\\t4\\n', 'chi chichi\\t1965\\t1\\t10']\n"
     ]
    }
   ],
   "source": [
    "# open the file in read mode\n",
    "file = open(\"test\", \"r\")\n",
    "\n",
    "# read the contents of the file\n",
    "contents = file.readlines()\n",
    "\n",
    "# print the contents of the file\n",
    "print(contents)\n",
    "\n",
    "# close the file\n",
    "file.close()\n"
   ]
  },
  {
   "cell_type": "code",
   "execution_count": 37,
   "metadata": {},
   "outputs": [
    {
     "name": "stdout",
     "output_type": "stream",
     "text": [
      "1965,chi,4\n",
      "1965,nu,4\n",
      "1965,chi,4\n",
      "1965,chi,20\n"
     ]
    }
   ],
   "source": [
    "# Mapper\n",
    "substrings = ['nu', 'chi', 'haw']\n",
    "for line in contents:\n",
    "    # Remove leading and trailing whitespace and split the words\n",
    "    fields = line.strip().split()\n",
    "    \n",
    "    if len(fields) < 4:\n",
    "        continue\n",
    "    elif len(fields) == 4: # 1-gram\n",
    "        word = fields[0]\n",
    "        year = fields[1]\n",
    "        occurence = int(fields[2])\n",
    "        volumes = int(fields[3])\n",
    "    elif len(fields) == 5: # 2-grams\n",
    "        word = fields[0]\n",
    "        second_word = fields[1]\n",
    "        year = fields[2]\n",
    "        occurence = int(fields[3])\n",
    "        volumes = int(fields[4])\n",
    "    # print(fields)\n",
    "    for substring in substrings:\n",
    "        if len(fields) == 4:\n",
    "            count = int(substring in word)\n",
    "            if count > 0:\n",
    "                print(f'{year},{substring},{count * volumes}')\n",
    "        elif len(fields) == 5:\n",
    "            count = int(substring in word) + int(substring in second_word)\n",
    "            if count > 0:\n",
    "                print(f'{year},{substring},{count * volumes}')\n",
    "        \n",
    "        "
   ]
  },
  {
   "cell_type": "code",
   "execution_count": null,
   "metadata": {},
   "outputs": [],
   "source": []
  }
 ],
 "metadata": {
  "kernelspec": {
   "display_name": "Python 3.10.6 ('fitx-env')",
   "language": "python",
   "name": "python3"
  },
  "language_info": {
   "codemirror_mode": {
    "name": "ipython",
    "version": 3
   },
   "file_extension": ".py",
   "mimetype": "text/x-python",
   "name": "python",
   "nbconvert_exporter": "python",
   "pygments_lexer": "ipython3",
   "version": "3.10.6"
  },
  "orig_nbformat": 4,
  "vscode": {
   "interpreter": {
    "hash": "855f64a292d4b7c4acb937563bc10c28884d8b4a5fdc69a680ea4b12a7374611"
   }
  }
 },
 "nbformat": 4,
 "nbformat_minor": 2
}
